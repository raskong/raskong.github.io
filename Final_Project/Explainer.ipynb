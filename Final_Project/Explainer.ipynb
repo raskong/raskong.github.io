{
 "cells": [
  {
   "cell_type": "code",
   "execution_count": 4,
   "metadata": {},
   "outputs": [],
   "source": [
    "#Importing packages\n",
    "import folium\n",
    "import pandas as pd\n",
    "import numpy as np\n",
    "import matplotlib.pyplot as plt\n",
    "from folium.plugins import HeatMap\n",
    "import geopandas as gpd\n",
    "import plotly.express as px"
   ]
  },
  {
   "cell_type": "code",
   "execution_count": 5,
   "metadata": {},
   "outputs": [
    {
     "ename": "FileNotFoundError",
     "evalue": "[Errno 2] No such file or directory: 'Motor_Vehicle_Collisions_-_Crashes_20240409.csv'",
     "output_type": "error",
     "traceback": [
      "\u001b[1;31m---------------------------------------------------------------------------\u001b[0m",
      "\u001b[1;31mFileNotFoundError\u001b[0m                         Traceback (most recent call last)",
      "Cell \u001b[1;32mIn[5], line 2\u001b[0m\n\u001b[0;32m      1\u001b[0m \u001b[38;5;66;03m#Import data from CSV\u001b[39;00m\n\u001b[1;32m----> 2\u001b[0m df \u001b[38;5;241m=\u001b[39m pd\u001b[38;5;241m.\u001b[39mread_csv(\u001b[38;5;124m'\u001b[39m\u001b[38;5;124mMotor_Vehicle_Collisions_-_Crashes_20240409.csv\u001b[39m\u001b[38;5;124m'\u001b[39m)\n",
      "File \u001b[1;32mc:\\Users\\linbe\\anaconda3\\Lib\\site-packages\\pandas\\io\\parsers\\readers.py:948\u001b[0m, in \u001b[0;36mread_csv\u001b[1;34m(filepath_or_buffer, sep, delimiter, header, names, index_col, usecols, dtype, engine, converters, true_values, false_values, skipinitialspace, skiprows, skipfooter, nrows, na_values, keep_default_na, na_filter, verbose, skip_blank_lines, parse_dates, infer_datetime_format, keep_date_col, date_parser, date_format, dayfirst, cache_dates, iterator, chunksize, compression, thousands, decimal, lineterminator, quotechar, quoting, doublequote, escapechar, comment, encoding, encoding_errors, dialect, on_bad_lines, delim_whitespace, low_memory, memory_map, float_precision, storage_options, dtype_backend)\u001b[0m\n\u001b[0;32m    935\u001b[0m kwds_defaults \u001b[38;5;241m=\u001b[39m _refine_defaults_read(\n\u001b[0;32m    936\u001b[0m     dialect,\n\u001b[0;32m    937\u001b[0m     delimiter,\n\u001b[1;32m   (...)\u001b[0m\n\u001b[0;32m    944\u001b[0m     dtype_backend\u001b[38;5;241m=\u001b[39mdtype_backend,\n\u001b[0;32m    945\u001b[0m )\n\u001b[0;32m    946\u001b[0m kwds\u001b[38;5;241m.\u001b[39mupdate(kwds_defaults)\n\u001b[1;32m--> 948\u001b[0m \u001b[38;5;28;01mreturn\u001b[39;00m _read(filepath_or_buffer, kwds)\n",
      "File \u001b[1;32mc:\\Users\\linbe\\anaconda3\\Lib\\site-packages\\pandas\\io\\parsers\\readers.py:611\u001b[0m, in \u001b[0;36m_read\u001b[1;34m(filepath_or_buffer, kwds)\u001b[0m\n\u001b[0;32m    608\u001b[0m _validate_names(kwds\u001b[38;5;241m.\u001b[39mget(\u001b[38;5;124m\"\u001b[39m\u001b[38;5;124mnames\u001b[39m\u001b[38;5;124m\"\u001b[39m, \u001b[38;5;28;01mNone\u001b[39;00m))\n\u001b[0;32m    610\u001b[0m \u001b[38;5;66;03m# Create the parser.\u001b[39;00m\n\u001b[1;32m--> 611\u001b[0m parser \u001b[38;5;241m=\u001b[39m TextFileReader(filepath_or_buffer, \u001b[38;5;241m*\u001b[39m\u001b[38;5;241m*\u001b[39mkwds)\n\u001b[0;32m    613\u001b[0m \u001b[38;5;28;01mif\u001b[39;00m chunksize \u001b[38;5;129;01mor\u001b[39;00m iterator:\n\u001b[0;32m    614\u001b[0m     \u001b[38;5;28;01mreturn\u001b[39;00m parser\n",
      "File \u001b[1;32mc:\\Users\\linbe\\anaconda3\\Lib\\site-packages\\pandas\\io\\parsers\\readers.py:1448\u001b[0m, in \u001b[0;36mTextFileReader.__init__\u001b[1;34m(self, f, engine, **kwds)\u001b[0m\n\u001b[0;32m   1445\u001b[0m     \u001b[38;5;28mself\u001b[39m\u001b[38;5;241m.\u001b[39moptions[\u001b[38;5;124m\"\u001b[39m\u001b[38;5;124mhas_index_names\u001b[39m\u001b[38;5;124m\"\u001b[39m] \u001b[38;5;241m=\u001b[39m kwds[\u001b[38;5;124m\"\u001b[39m\u001b[38;5;124mhas_index_names\u001b[39m\u001b[38;5;124m\"\u001b[39m]\n\u001b[0;32m   1447\u001b[0m \u001b[38;5;28mself\u001b[39m\u001b[38;5;241m.\u001b[39mhandles: IOHandles \u001b[38;5;241m|\u001b[39m \u001b[38;5;28;01mNone\u001b[39;00m \u001b[38;5;241m=\u001b[39m \u001b[38;5;28;01mNone\u001b[39;00m\n\u001b[1;32m-> 1448\u001b[0m \u001b[38;5;28mself\u001b[39m\u001b[38;5;241m.\u001b[39m_engine \u001b[38;5;241m=\u001b[39m \u001b[38;5;28mself\u001b[39m\u001b[38;5;241m.\u001b[39m_make_engine(f, \u001b[38;5;28mself\u001b[39m\u001b[38;5;241m.\u001b[39mengine)\n",
      "File \u001b[1;32mc:\\Users\\linbe\\anaconda3\\Lib\\site-packages\\pandas\\io\\parsers\\readers.py:1705\u001b[0m, in \u001b[0;36mTextFileReader._make_engine\u001b[1;34m(self, f, engine)\u001b[0m\n\u001b[0;32m   1703\u001b[0m     \u001b[38;5;28;01mif\u001b[39;00m \u001b[38;5;124m\"\u001b[39m\u001b[38;5;124mb\u001b[39m\u001b[38;5;124m\"\u001b[39m \u001b[38;5;129;01mnot\u001b[39;00m \u001b[38;5;129;01min\u001b[39;00m mode:\n\u001b[0;32m   1704\u001b[0m         mode \u001b[38;5;241m+\u001b[39m\u001b[38;5;241m=\u001b[39m \u001b[38;5;124m\"\u001b[39m\u001b[38;5;124mb\u001b[39m\u001b[38;5;124m\"\u001b[39m\n\u001b[1;32m-> 1705\u001b[0m \u001b[38;5;28mself\u001b[39m\u001b[38;5;241m.\u001b[39mhandles \u001b[38;5;241m=\u001b[39m get_handle(\n\u001b[0;32m   1706\u001b[0m     f,\n\u001b[0;32m   1707\u001b[0m     mode,\n\u001b[0;32m   1708\u001b[0m     encoding\u001b[38;5;241m=\u001b[39m\u001b[38;5;28mself\u001b[39m\u001b[38;5;241m.\u001b[39moptions\u001b[38;5;241m.\u001b[39mget(\u001b[38;5;124m\"\u001b[39m\u001b[38;5;124mencoding\u001b[39m\u001b[38;5;124m\"\u001b[39m, \u001b[38;5;28;01mNone\u001b[39;00m),\n\u001b[0;32m   1709\u001b[0m     compression\u001b[38;5;241m=\u001b[39m\u001b[38;5;28mself\u001b[39m\u001b[38;5;241m.\u001b[39moptions\u001b[38;5;241m.\u001b[39mget(\u001b[38;5;124m\"\u001b[39m\u001b[38;5;124mcompression\u001b[39m\u001b[38;5;124m\"\u001b[39m, \u001b[38;5;28;01mNone\u001b[39;00m),\n\u001b[0;32m   1710\u001b[0m     memory_map\u001b[38;5;241m=\u001b[39m\u001b[38;5;28mself\u001b[39m\u001b[38;5;241m.\u001b[39moptions\u001b[38;5;241m.\u001b[39mget(\u001b[38;5;124m\"\u001b[39m\u001b[38;5;124mmemory_map\u001b[39m\u001b[38;5;124m\"\u001b[39m, \u001b[38;5;28;01mFalse\u001b[39;00m),\n\u001b[0;32m   1711\u001b[0m     is_text\u001b[38;5;241m=\u001b[39mis_text,\n\u001b[0;32m   1712\u001b[0m     errors\u001b[38;5;241m=\u001b[39m\u001b[38;5;28mself\u001b[39m\u001b[38;5;241m.\u001b[39moptions\u001b[38;5;241m.\u001b[39mget(\u001b[38;5;124m\"\u001b[39m\u001b[38;5;124mencoding_errors\u001b[39m\u001b[38;5;124m\"\u001b[39m, \u001b[38;5;124m\"\u001b[39m\u001b[38;5;124mstrict\u001b[39m\u001b[38;5;124m\"\u001b[39m),\n\u001b[0;32m   1713\u001b[0m     storage_options\u001b[38;5;241m=\u001b[39m\u001b[38;5;28mself\u001b[39m\u001b[38;5;241m.\u001b[39moptions\u001b[38;5;241m.\u001b[39mget(\u001b[38;5;124m\"\u001b[39m\u001b[38;5;124mstorage_options\u001b[39m\u001b[38;5;124m\"\u001b[39m, \u001b[38;5;28;01mNone\u001b[39;00m),\n\u001b[0;32m   1714\u001b[0m )\n\u001b[0;32m   1715\u001b[0m \u001b[38;5;28;01massert\u001b[39;00m \u001b[38;5;28mself\u001b[39m\u001b[38;5;241m.\u001b[39mhandles \u001b[38;5;129;01mis\u001b[39;00m \u001b[38;5;129;01mnot\u001b[39;00m \u001b[38;5;28;01mNone\u001b[39;00m\n\u001b[0;32m   1716\u001b[0m f \u001b[38;5;241m=\u001b[39m \u001b[38;5;28mself\u001b[39m\u001b[38;5;241m.\u001b[39mhandles\u001b[38;5;241m.\u001b[39mhandle\n",
      "File \u001b[1;32mc:\\Users\\linbe\\anaconda3\\Lib\\site-packages\\pandas\\io\\common.py:863\u001b[0m, in \u001b[0;36mget_handle\u001b[1;34m(path_or_buf, mode, encoding, compression, memory_map, is_text, errors, storage_options)\u001b[0m\n\u001b[0;32m    858\u001b[0m \u001b[38;5;28;01melif\u001b[39;00m \u001b[38;5;28misinstance\u001b[39m(handle, \u001b[38;5;28mstr\u001b[39m):\n\u001b[0;32m    859\u001b[0m     \u001b[38;5;66;03m# Check whether the filename is to be opened in binary mode.\u001b[39;00m\n\u001b[0;32m    860\u001b[0m     \u001b[38;5;66;03m# Binary mode does not support 'encoding' and 'newline'.\u001b[39;00m\n\u001b[0;32m    861\u001b[0m     \u001b[38;5;28;01mif\u001b[39;00m ioargs\u001b[38;5;241m.\u001b[39mencoding \u001b[38;5;129;01mand\u001b[39;00m \u001b[38;5;124m\"\u001b[39m\u001b[38;5;124mb\u001b[39m\u001b[38;5;124m\"\u001b[39m \u001b[38;5;129;01mnot\u001b[39;00m \u001b[38;5;129;01min\u001b[39;00m ioargs\u001b[38;5;241m.\u001b[39mmode:\n\u001b[0;32m    862\u001b[0m         \u001b[38;5;66;03m# Encoding\u001b[39;00m\n\u001b[1;32m--> 863\u001b[0m         handle \u001b[38;5;241m=\u001b[39m \u001b[38;5;28mopen\u001b[39m(\n\u001b[0;32m    864\u001b[0m             handle,\n\u001b[0;32m    865\u001b[0m             ioargs\u001b[38;5;241m.\u001b[39mmode,\n\u001b[0;32m    866\u001b[0m             encoding\u001b[38;5;241m=\u001b[39mioargs\u001b[38;5;241m.\u001b[39mencoding,\n\u001b[0;32m    867\u001b[0m             errors\u001b[38;5;241m=\u001b[39merrors,\n\u001b[0;32m    868\u001b[0m             newline\u001b[38;5;241m=\u001b[39m\u001b[38;5;124m\"\u001b[39m\u001b[38;5;124m\"\u001b[39m,\n\u001b[0;32m    869\u001b[0m         )\n\u001b[0;32m    870\u001b[0m     \u001b[38;5;28;01melse\u001b[39;00m:\n\u001b[0;32m    871\u001b[0m         \u001b[38;5;66;03m# Binary mode\u001b[39;00m\n\u001b[0;32m    872\u001b[0m         handle \u001b[38;5;241m=\u001b[39m \u001b[38;5;28mopen\u001b[39m(handle, ioargs\u001b[38;5;241m.\u001b[39mmode)\n",
      "\u001b[1;31mFileNotFoundError\u001b[0m: [Errno 2] No such file or directory: 'Motor_Vehicle_Collisions_-_Crashes_20240409.csv'"
     ]
    }
   ],
   "source": [
    "#Import data from CSV\n",
    "df = pd.read_csv('Motor_Vehicle_Collisions_-_Crashes_20240409.csv')"
   ]
  },
  {
   "cell_type": "markdown",
   "metadata": {},
   "source": [
    "### 1. Motivation\n",
    "<!-- What is your dataset? -->\n",
    "The dataset, that we have used in this project is called “Motor vehicle collisions - crashes” and it concerns vehicle crashes in the period from mid 2012 up until april 2024 in New York City (NYC).\n",
    "\n",
    "<!-- Why did you choose this/these particular dataset(s)? -->\n",
    "We have decided to analyze this particular dataset of various reasons.\n",
    "1. The dataset contains no less that 2.08 datapoints. This ensures that there is more than enough data to perform well grounded anlyses.\n",
    "2. The dataset contains geo-data which makes it possible to do geographical analyses of where crashes usually happens.\n",
    "3. The dataset contains 29 different attributes making it possible to analyse different factors involved and how they influence the overall picture.\n",
    "\n",
    "<!-- What was your goal for the end user's experience? -->\n",
    "\n"
   ]
  },
  {
   "cell_type": "markdown",
   "metadata": {},
   "source": [
    "### 2. Basic stats\n",
    "<span style=\"font-size:larger; font-weight:bold;\">Data cleaning</span>\n",
    "<!-- Write about your choices in data cleaning and preprocessing -->\n",
    "The years 2012 and 2024 are not entire years and so they become difficult to compare with the other years. These have been left out from the dataset.\n",
    "\n",
    "The dataset contains quite a few NaN's and extreme values in some of the columns - especially for the attributes concerning location.\n",
    "However, we have decided not to delete these, as a lack of geo-data does not affect the other attributes as we process them indivually. At the same time, when mapping the data the zoom will be on the location of NYC, and so, wrong geodata will not disturb the quality of the maps.\n",
    "\n",
    "For all columns containing strings such as 'CONTRIBUTING FACTOR VEHICLE 1' or 'VEHICLE TYPE CODE 1', we have changed all cells to lowercase letters to uniform the data. This means that cells such as 'BUS' and 'bus' will now be interpreted as the same.\n",
    "\n",
    "<!-- Write a short section that discusses the dataset stats, containing key points/plots from your exploratory data analysis. -->\n",
    "\n",
    "<span style=\"font-size:larger; font-weight:bold;\">The dataset stats</span>\n",
    "\n",
    "The 29 attributes cover date, time and location (both coordinates, streetname and cross street name).\n",
    "Also number of people (drivers, pedestrians, cyclists) injuerd or killed as well as the contributing factor for the crash and the vehicle types involved.\n",
    "\n",
    "To get a preliminary idea of the data we have made a few simple plots.\n",
    "The first plot shows the development in crashes from 2013 to 2023. What is interesting is the drop from 2019 to 2020, which we will look further into.\n",
    "\n",
    "<img src=\"/Final_Project/Figures/crashes_per_year.png\" alt=\"Alt text\">\n",
    "\n",
    "\n",
    "Another thing that would be interesting is to explore which contributing factors are most frequent.\n",
    "As there is always at least one vehicle involved we'll use the attribute 'CONTRIBUTING FACTOR VEHICLE 1' for the exploration. A total of 62 different contributing factors can be found. However the most common one is *'unspecified'* with no less that '567.539' occurences. This is unfortunate but it will still be possible to explore some of the other factors. As some of the factors show very few occurences such as 'listening/using ueadphones' with only 21 occurences we will not be focussing on these as it is a very low frequency in a dataset of this size.\n",
    "This has left us with a limited amount of factors that we have been focusses on.\n",
    "\n",
    "\n",
    "\n",
    "\n"
   ]
  },
  {
   "cell_type": "code",
   "execution_count": null,
   "metadata": {},
   "outputs": [
    {
     "name": "stderr",
     "output_type": "stream",
     "text": [
      "/var/folders/jp/dc7lqd6n2jj4xgt9r_fd31440000gn/T/ipykernel_91095/1485462648.py:1: SettingWithCopyWarning: \n",
      "A value is trying to be set on a copy of a slice from a DataFrame.\n",
      "Try using .loc[row_indexer,col_indexer] = value instead\n",
      "\n",
      "See the caveats in the documentation: https://pandas.pydata.org/pandas-docs/stable/user_guide/indexing.html#returning-a-view-versus-a-copy\n",
      "  df['CRASH DATE'] = pd.to_datetime(df['CRASH DATE'])\n",
      "/var/folders/jp/dc7lqd6n2jj4xgt9r_fd31440000gn/T/ipykernel_91095/1485462648.py:2: SettingWithCopyWarning: \n",
      "A value is trying to be set on a copy of a slice from a DataFrame.\n",
      "Try using .loc[row_indexer,col_indexer] = value instead\n",
      "\n",
      "See the caveats in the documentation: https://pandas.pydata.org/pandas-docs/stable/user_guide/indexing.html#returning-a-view-versus-a-copy\n",
      "  df['YEAR'] = df['CRASH DATE'].dt.year\n"
     ]
    },
    {
     "data": {
      "image/png": "[encoded data removed]",
      "text/plain": [
       "<Figure size 800x500 with 1 Axes>"
      ]
     },
     "metadata": {},
     "output_type": "display_data"
    }
   ],
   "source": [
    "df['CRASH DATE'] = pd.to_datetime(df['CRASH DATE'])\n",
    "df['YEAR'] = df['CRASH DATE'].dt.year\n",
    "df = df[(df['YEAR'] != 2012) & (df['YEAR'] != 2024)]\n",
    "per_year = df['YEAR'].value_counts().sort_index()\n",
    "\n",
    "plt.figure(figsize=(8, 5))  # Adjust the figure size if needed\n",
    "\n",
    "# Create bar chart\n",
    "plt.bar(per_year.index, per_year.values, color='salmon')\n",
    "\n",
    "plt.xlabel('Year')\n",
    "plt.ylabel('Count')\n",
    "plt.title('Crashes per year')\n",
    "plt.xticks(per_year.index)\n",
    "\n",
    "plt.savefig('/Users/rasmuskongsted/Documents/Danmarks Tekniske Universitet/DTU/10. semester/Dataanalyse/Gitpage/raskong.github.io/Final_Project/Figures/crashes_per_year.png', bbox_inches='tight')\n",
    "\n",
    "plt.show()"
   ]
  },
  {
   "cell_type": "markdown",
   "metadata": {},
   "source": [
    "### 3. Data Analysis\n",
    "- Describe your data analysis and explain what you've learned about the dataset.\n",
    "- If relevant, talk about your machine-learning.\n",
    "\n",
    "Starting with a very large dataset, our analysis was very wide in the beginning. We started out making many exploratory plots, to get insights into how the data was structured and to see if we could notice something of interest. We did however somewhat early in the process set on some type of data which we would like to investigate further, to scope the aim of this project - these are our sections of the webpage (Contributing factor, vehicle type and location of crashes).  Some of the main findings are: \n",
    "\n",
    "<span style=\"font-size:larger; font-weight:bold;\">Decrease of crashes in 2020:</span>\n",
    "As seen on the barplot from the section 2.Basic stats above, we found that the datset contains information about that the number of crashes almost decreased by 50% in 2020. This could either be an indication of a flaw in the datset, but we found it to be a trend connected to the Covid pandemic, which resulted in less cars on the roads, as people worked remote. \n",
    "\n",
    "<span style=\"font-size:larger; font-weight:bold;\">Inattention as contributing factor:</span>\n",
    "We found that the contributing factor \"unspecified\" was to most frequently appearing. This may be due to that it can be hard to evaluate what caused a crash. Since it is difficult for us to analyse something from this tendency, we looked more into the second most frequently reported, which we found to be; \"inattention/distraction\". \n",
    "INSERT BAR PLOT\n",
    "\n",
    "<span style=\"font-size:larger; font-weight:bold;\">New procedures in 2016:</span>\n",
    "Looking at the type of car involved, we found some strange tendencies around year 2016. As seen on the Bokeh plot below, some vehicle types have observations all years from 2013-2023, while some only have up until 2016 and some third have from 2016-2023. The datset here displays that some shift in the way they collect data must have happened. We can however conclude that the most frequently appearing types are sedans/passenger vehicles and stationvagons/SUVs.\n",
    "INSERT BOKEH\n",
    "\n",
    "<span style=\"font-size:larger; font-weight:bold;\">Alcohol involvement in the weekends and 1st of January: </span>\n",
    "From analysis the contributing factor we found that most factors peak in the afternoon. The only one differing from this is alcohol involvement, since it is more frequent at night - not surprisingly. Analysis this factor deeper we found that it most frquent during the weekend, and special (often alcohol dependent) dates such as 1st of January. \n",
    "INSERT CALENDAR PLOT\n",
    "\n",
    "\n",
    "<span style=\"font-size:larger; font-weight:bold;\">Densely populated areas and big roads = more crashes:</span>\n",
    "Analysing the geo-data provided by the dataset, we found that most crashes happens close to/on large roads such as broadway. This is either because it has many cars driving them each day and this causes more crashes or since the roads are longer and you therefore statistically will report a higher number of crashes. Looking at the postal codes we found that postal codes with high density of people or the one with the junction of Broadway and Atlantic Avenue meets has the most crashes. "
   ]
  },
  {
   "cell_type": "code",
   "execution_count": null,
   "metadata": {},
   "outputs": [
    {
     "ename": "NameError",
     "evalue": "name 'df' is not defined",
     "output_type": "error",
     "traceback": [
      "\u001b[1;31m---------------------------------------------------------------------------\u001b[0m",
      "\u001b[1;31mNameError\u001b[0m                                 Traceback (most recent call last)",
      "Cell \u001b[1;32mIn[3], line 6\u001b[0m\n\u001b[0;32m      3\u001b[0m gdf \u001b[38;5;241m=\u001b[39m gpd\u001b[38;5;241m.\u001b[39mread_file(url)\n\u001b[0;32m      5\u001b[0m \u001b[38;5;66;03m# Count occurrences of each postal code\u001b[39;00m\n\u001b[1;32m----> 6\u001b[0m gdf[\u001b[38;5;124m'\u001b[39m\u001b[38;5;124mcount\u001b[39m\u001b[38;5;124m'\u001b[39m] \u001b[38;5;241m=\u001b[39m gdf[\u001b[38;5;124m'\u001b[39m\u001b[38;5;124mpostalCode\u001b[39m\u001b[38;5;124m'\u001b[39m]\u001b[38;5;241m.\u001b[39mmap(df[\u001b[38;5;124m'\u001b[39m\u001b[38;5;124mZIP CODE\u001b[39m\u001b[38;5;124m'\u001b[39m]\u001b[38;5;241m.\u001b[39mvalue_counts())\n\u001b[0;32m      8\u001b[0m \u001b[38;5;66;03m# Change the index of the GeoDataFrame to postalCode\u001b[39;00m\n\u001b[0;32m      9\u001b[0m gdf\u001b[38;5;241m.\u001b[39mindex \u001b[38;5;241m=\u001b[39m gdf[\u001b[38;5;124m'\u001b[39m\u001b[38;5;124mpostalCode\u001b[39m\u001b[38;5;124m'\u001b[39m]\n",
      "\u001b[1;31mNameError\u001b[0m: name 'df' is not defined"
     ]
    }
   ],
   "source": [
    "# Read the geoJSON file into a GeoDataFrame\n",
    "url = \"https://raw.githubusercontent.com/fedhere/PUI2015_EC/master/mam1612_EC/nyc-zip-code-tabulation-areas-polygons.geojson\"\n",
    "gdf = gpd.read_file(url)\n",
    "\n",
    "# Count occurrences of each postal code\n",
    "gdf['count'] = gdf['postalCode'].map(df['ZIP CODE'].value_counts())\n",
    "\n",
    "# Change the index of the GeoDataFrame to postalCode\n",
    "gdf.index = gdf['postalCode']\n",
    "gdf.index.name = 'Postal Code'\n",
    "\n",
    "# Create Plotly figure\n",
    "fig = px.choropleth_mapbox(gdf, \n",
    "                           geojson=gdf.geometry, \n",
    "                           locations=gdf.index,  # Use the index as location\n",
    "                           color='count',\n",
    "                           color_continuous_scale=\"Plasma\",\n",
    "                           range_color=(0, gdf['count'].max()),\n",
    "                           mapbox_style=\"carto-positron\",\n",
    "                           zoom=9.2, \n",
    "                           width=800,height=500,\n",
    "                           center = {\"lat\": 40.7128, \"lon\": -73.99},\n",
    "                           opacity=0.5,\n",
    "                           labels={'count':'Number of crashes'}\n",
    "                          )\n",
    "fig.update_layout(margin={\"r\":0,\"t\":0,\"l\":0,\"b\":0})\n",
    "fig.write_html(\"crashesmap.html\")\n",
    "fig.show()"
   ]
  },
  {
   "cell_type": "markdown",
   "metadata": {},
   "source": [
    "### 4. Genre\n",
    "Which genre of data story did you use?\n",
    "- Which tools did you use from each of the 3 categories of Visual Narrative (Figure 7 in Segal and Heer). Why?\n",
    "- Which tools did you use from each of the 3 categories of Narrative Structure (Figure 7 in Segal and Heer). Why?\n",
    "\n",
    "<span style=\"font-size:larger; font-weight:bold;\">Visual narrative:</span>\n",
    "1. Visual Structuring \n",
    "    1. **Consistent visual platform**<br/>\n",
    "    This is the case, since there is a consistent layout throughout all the sections of the webpage. The layout of the platform is not the important thing to direct attention to, which is why we hoped that a consistency would lead the reader's attention to the content instead. \n",
    "2. Highlighting\n",
    "    1. **Feature distinction**<br/>\n",
    "    We try to guide the readers eye to the visualizations through adding colorful plots. This both attract the eye and gives immediate indication on what story we would like to tell. \n",
    "    2. **Motion/Audio**<br/>\n",
    "    We added the video we created for part A, to let the reader experience the purpose of the webpage in a lighter and more entertaining way.  \n",
    "3. Transition guidance\n",
    "    1. **Familiar object**<br/>\n",
    "    The webpage has a smooth transition from section to section due to the similar object on each page(layout) but has not much direct transition between them. The panel is a well-known feature which most people would find familiar and know how to maneuver. NOT SURE ABOUT THIS \n",
    "\n",
    "\n",
    "<span style=\"font-size:larger; font-weight:bold;\">Narrative structure:</span>\n",
    "1. Ordering\n",
    "    1. **Random access** <br/>\n",
    "    We have chosen the panel to let the user inspect the page in a non-structured way allowing them to explore the parts of the data story they find the most interesting. They can therefore freely jump between sections. However, in many cultures a standard would be to access the sections from left to right.\n",
    "2. Interactivity \n",
    "    1. **Hover highlighting** <br/>\n",
    "    In the postal code map you can hover over the postal codes and get the information about the number of car crashes. This would simply have been too messy if it was indicated all the time because the big amount of data, which is why we have chosen the hover highlighting\n",
    "    2. **Filtering/selection/search** <br/> \n",
    "    On the Bokeh plots you are allowed to select the type of contributing factor you would like to inspect. This gives the reader an option to compare the patterns of the factors themselves which will make the story/insights more memorable.  \n",
    "    3. **Navigation buttons** <br/>\n",
    "    The already mentioned panel allows the user to interact with the webpage. \n",
    "    4. **Stimulating Default Views** <br/>\n",
    "    The heatmap is clearly zoomed in on an area which we have chosen of interest and we have helped the reader by pointing some locations out in the map where there is a special density of crashes. This default view was chosen to guide the story we would like to tell, but the story is still interactive, allowing the reader to e.g. look up the surrounding area of their home, work etc. \n",
    "3. Messaging \n",
    "    1. **Captions** <br/>\n",
    "    All the different sections and subsections have big heading to attract focus and give overview of the foloowing content\n",
    "    2. **Introductory text** <br/>\n",
    "    The first section \"Home\" is made with introductory text giving an insight into what the webpage will cover\n",
    "    "
   ]
  },
  {
   "cell_type": "markdown",
   "metadata": {},
   "source": [
    "### 5. Visualizations\n",
    "- Explain the visualizations you've chosen.\n",
    "- Why are they right for the story you want to tell?\n",
    "\n",
    "<span style=\"font-size:larger; font-weight:bold;\">Video</span> <br/>\n",
    "We added the video from the Final A delivery. Both because we already had it, but also since we thought it made great sense to invite the reader to get a better understanding of the purpose of the analysis through a visual appealing format where they are guided through the content in a speed and structure 100% defined by us. \n",
    "\n",
    "<span style=\"font-size:larger; font-weight:bold;\">Bar plots</span> <br/>\n",
    "Bar plots are used several times (crashes per year, contributing factor, vehicle type). This is a simple way of visualizing a comparision between several types of observations. \n",
    "\n",
    "\n",
    "<span style=\"font-size:larger; font-weight:bold;\">Bokeh plot</span> <br/>\n",
    "This format has been used to let the reader interact with the data and investigate the findings through the ability to select special factors of interest. We used it for contributing factor and vehicle type over the years. Here the reader gets an indication of e.g. how big the difference is between the occurrences of station wagon and taxi crashes while they also get information about the development over the years. \n",
    "\n",
    "<span style=\"font-size:larger; font-weight:bold;\">Sub plots</span> <br/>\n",
    "We chose a subplot of bar plots to visualize the occurrences of the contributing factors per hour of the day. This is could have been done as a bokeh plot if we wanted the reader to interact with the data, but we chose this format since you very fast get an overview of that almost all contributing factors have the same pattern of occurrences. Further it is a fast way of visualizing that alcohol involvement is the only factor which differs from the rest. There would have been a risk of the reader not noticing this if it had been a bokeh plot.\n",
    "\n",
    "<span style=\"font-size:larger; font-weight:bold;\">Calendar plots</span> <br/>\n",
    "This type of plot is used to further investigate the pattern of alcohol as a contributing factor. It was used to visualize the tendency in that alcohol contributes more frequently in the weekends but also to visualize that some specific days, such as 1st of January, are more likely to have observations of this contributing factor. The plot type therefore offers individual observations of days and not just an average of weekdays over a year or a larger period of time. \n",
    "\n",
    "<span style=\"font-size:larger; font-weight:bold;\">Choropleth map</span> <br/>\n",
    "Mapping out the geographical patterns of crashes is done though a choropleth map. This divides the map of NYC up into sections (we chose postal codes). This was chosen since the individual observations are difficult to get a grasp of, and the grouping of these into geographical locations and color coding them gives the reader a better understanding of if any locations of NYC have a higher probability of crashes and how much larger it is. We could have chosen broughs or other ways of dividing NYC into smaller parts, but chose postal codes since they are smaller and are more or less the same size which minimize the interpretation error, which can happen from that larger areas are more likely to have more observations. \n",
    "\n",
    "<span style=\"font-size:larger; font-weight:bold;\">Heatmap</span> <br/>\n",
    "Heatmap was used to get more a detailed visualization of where in the city the observations of crashes occur. This mapping method was difficult to use for all the data, since there were too many observations. We therefore chose to only look at fatal crashes (involving killed people) and data for the most frequently occurring vehicle type (station wagon). This made it possible to visualize if any specific roads or areas were more frequently occurring - which it turned out wasn't significant. \n",
    "\n"
   ]
  },
  {
   "cell_type": "markdown",
   "metadata": {},
   "source": [
    "### 6. Discussion. \n",
    "Think critically about your creation \n",
    "- What went well?,\n",
    "- What is still missing? What could be improved?, Why?\n",
    "\n",
    "\n",
    "Overall we believe that we have managed to create a good analysis of the chosen dataset. We have at least all experienced satisfaction in having used many of the tools and techniques we have learned in the course. However, the dataset turned out to be a bit tricky to work with. We realized that it wasn’t only a good thing that it was a very big dataset. \n",
    "\n",
    "<span style=\"font-size:larger; font-weight:bold;\">Naming of factors</span> <br/>\n",
    "Many of the observations were categorized in different terms but covered the same type of observations. As an example, we found that both “station wagon/sport utility vehicle” and “sport utility/station wagon” were present as different types of cars. Here we just merged the two types of observations into one, but we are aware that if we had to continue working with this dataset, we should go through all the observations and ensure that it didn’t have more misleading naming of the factors as this.\n",
    "\n",
    "<span style=\"font-size:larger; font-weight:bold;\">Missing data</span> <br/> \n",
    "Further we found several holes in the observations. Looking at the bokeh plot for the contributing factors you can conclude that e.g. both: “Passing too closely”, “Unsafe lane changing”, and “Following too closely” weren’t present in the years before 2016. We don’t believe that this is the actual case but rather that they just started noting these observations in 2016. This would be something we would have to investigate further if we had to continue working with the data. \n",
    "\n",
    "\n",
    "<span style=\"font-size:larger; font-weight:bold;\">Mostly discrete data</span> <br/> \n",
    "Their is a general lack of continuous data. Witch narrows the possibilities types of plot we can make. If we were to repeat this Assignment, we would prefer to locate another dataset that fulfills this requirement.\"\n",
    "\n",
    "\n",
    "\n",
    "<span style=\"font-size:larger; font-weight:bold;\">Geo-data</span> <br/> \n",
    "Using the geo-data we managed to get overall insights into if any geographical trends appear concerning the frequency of car crashes. We did however not find many specific areas of interest as “hoped”.  We could, from this analysis therefore not give very justified recommendations to where you would have to improve the city planning/road systems to improve safety in NYC. A more in depth analysis of which contributing factors lead to crashes and where could be interesting to conduct. As an example we could imagine that “failure to yield right-of-way” had something to do with the location of which it happens. \n"
   ]
  },
  {
   "cell_type": "markdown",
   "metadata": {},
   "source": [
    "### 7. Contributions. Who did what?\n",
    "\n",
    "Explainer: Lin, Mads, Rasmus\n",
    "\n",
    "Webpage setup: Lin, Mads, Rasmus\n",
    "\n",
    "Home: Rasmus, Mads\n",
    "\n",
    "Data Overview: Rasmus\n",
    "\n",
    "Contributing Factor: Rasmus, Mads\n",
    "\n",
    "Vehicle type: Rasmus, Mads\n",
    "\n",
    "Location of Crashes: Lin"
   ]
  },
  {
   "cell_type": "markdown",
   "metadata": {},
   "source": [
    "### 8. Make sure that you use references when they're needed and follow academic standards."
   ]
  },
  {
   "cell_type": "code",
   "execution_count": null,
   "metadata": {},
   "outputs": [],
   "source": []
  },
  {
   "cell_type": "code",
   "execution_count": null,
   "metadata": {
    "slideshow": {
     "slide_type": "subslide"
    }
   },
   "outputs": [],
   "source": []
  }
 ],
 "metadata": {
  "kernelspec": {
   "display_name": "Python 3",
   "language": "python",
   "name": "python3"
  },
  "language_info": {
   "codemirror_mode": {
    "name": "ipython",
    "version": 3
   },
   "file_extension": ".py",
   "mimetype": "text/x-python",
   "name": "python",
   "nbconvert_exporter": "python",
   "pygments_lexer": "ipython3",
   "version": "3.11.5"
  }
 },
 "nbformat": 4,
 "nbformat_minor": 2
}
