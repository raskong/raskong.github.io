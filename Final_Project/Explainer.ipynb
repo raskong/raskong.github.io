{
 "cells": [
  {
   "cell_type": "code",
   "execution_count": 1,
   "metadata": {},
   "outputs": [],
   "source": [
    "#Importing packages\n",
    "import folium\n",
    "import pandas as pd\n",
    "import numpy as np\n",
    "import matplotlib.pyplot as plt\n",
    "from folium.plugins import HeatMap"
   ]
  },
  {
   "cell_type": "code",
   "execution_count": 2,
   "metadata": {},
   "outputs": [
    {
     "name": "stderr",
     "output_type": "stream",
     "text": [
      "/var/folders/jp/dc7lqd6n2jj4xgt9r_fd31440000gn/T/ipykernel_18086/601057482.py:2: DtypeWarning: Columns (3) have mixed types. Specify dtype option on import or set low_memory=False.\n",
      "  df = pd.read_csv('Motor_Vehicle_Collisions_-_Crashes_20240409.csv')\n"
     ]
    }
   ],
   "source": [
    "#Import data from CSV\n",
    "df = pd.read_csv('Motor_Vehicle_Collisions_-_Crashes_20240409.csv')"
   ]
  },
  {
   "cell_type": "markdown",
   "metadata": {},
   "source": [
    "### 1. Motivation\n",
    "<!-- What is your dataset? -->\n",
    "The dataset, that we have used in this project is called “Motor vehicle collisions - crashes” and it concerns vehicle crashes in the period from mid 2012 up until april 2024 in New York City (NYC).\n",
    "\n",
    "<!-- Why did you choose this/these particular dataset(s)? -->\n",
    "We have decided to analyze this particular dataset of various reasons.\n",
    "1. The dataset contains no less that 2.08 datapoints. This ensures that there is more than enough data to perform well grounded anlyses.\n",
    "2. The dataset contains geo-data which makes it possible to do geographical analyses of where crashes usually happens.\n",
    "3. The dataset contains 29 different attributes making it possible to analyse different factors involved and how they influence the overall picture.\n",
    "\n",
    "<!-- What was your goal for the end user's experience? -->\n",
    "\n"
   ]
  },
  {
   "cell_type": "markdown",
   "metadata": {},
   "source": [
    "### 2. Basic stats\n",
    "<!-- Write about your choices in data cleaning and preprocessing -->\n",
    "The years 2012 and 2024 are not entire years and so they become difficult to compare with the other years. These have been left out from the dataset.\n",
    "\n",
    "The dataset contains quite a few NaN's in some of the columns. As a start we have leaved out all datapoints with NaN's in the geodata column 'LOCATION' limiting the number of datapoints to 1.737.914.\n",
    "\n",
    "For all columns containing strings such as 'CONTRIBUTING FACTOR VEHICLE 1' or 'VEHICLE TYPE CODE 1', we have changed all cells to lowercase letters to uniform the data. This means that cells such as 'BUS' and 'bus' will now be interpreted as the same.\n",
    "\n",
    "<!-- Write a short section that discusses the dataset stats, containing key points/plots from your exploratory data analysis. -->\n",
    "\n",
    "The 29 attributes cover date, time and location (both coordinates, streetname and cross street name).\n",
    "Also number of people (drivers, pedestrians, cyclists) injuerd or killed as well as the contributing factor for the crash and the vehicle types involved.\n",
    "\n",
    "To get a preliminary idea of the data we have made a few simple plots.\n",
    "The first plot shows the development in crashes from 2013 to 2023. What is interesting is the drop from 2019 to 2020, which we will look further into.\n",
    "\n",
    "Another thing that would be interesting is to explore which contributing factors are most frequent.\n",
    "As there is always at least one vehicle involved we'll use the attribute 'CONTRIBUTING FACTOR VEHICLE 1' for the exploration. A total of 62 different contributing factors can be found. However the most common one is 'Unspecified' with no less that '567.539' occurences. This is unfortunate but it will still be possible to explore some of the other factors. As some of the factors show very few occurences such as 'Listening/Using Headphones' with only 21 occurences we will not be focussing on these as it is a very low frequency in a dataset of this size.\n",
    "This has left us with a limited amount of factors that we would like to focus on.\n",
    "\n",
    "\n",
    "\n"
   ]
  },
  {
   "cell_type": "markdown",
   "metadata": {},
   "source": [
    "### 3. Data Analysis\n",
    "- Describe your data analysis and explain what you've learned about the dataset.\n",
    "- If relevant, talk about your machine-learning."
   ]
  },
  {
   "cell_type": "markdown",
   "metadata": {},
   "source": [
    "### 4. Genre\n",
    "Which genre of data story did you use?\n",
    "- Which tools did you use from each of the 3 categories of Visual Narrative (Figure 7 in Segal and Heer). Why?\n",
    "- Which tools did you use from each of the 3 categories of Narrative Structure (Figure 7 in Segal and Heer). Why?"
   ]
  },
  {
   "cell_type": "markdown",
   "metadata": {},
   "source": [
    "### 5. Visualizations\n",
    "- Explain the visualizations you've chosen.\n",
    "- Why are they right for the story you want to tell?"
   ]
  },
  {
   "cell_type": "markdown",
   "metadata": {},
   "source": [
    "### 6. Discussion. \n",
    "Think critically about your creation\n",
    "- What went well?,\n",
    "- What is still missing? What could be improved?, Why?"
   ]
  },
  {
   "cell_type": "markdown",
   "metadata": {},
   "source": [
    "### 7. Contributions. Who did what?\n",
    "- You should write (just briefly) which group member was the main responsible for which elements of the assignment. (I want you guys to understand every part of the assignment, but usually there is someone who took lead role on certain portions of the work. That's what you should explain).\n",
    "- It is not OK simply to write \"All group members contributed equally\"."
   ]
  },
  {
   "cell_type": "markdown",
   "metadata": {},
   "source": [
    "### 8. Make sure that you use references when they're needed and follow academic standards."
   ]
  },
  {
   "cell_type": "code",
   "execution_count": null,
   "metadata": {},
   "outputs": [],
   "source": []
  },
  {
   "cell_type": "code",
   "execution_count": null,
   "metadata": {
    "slideshow": {
     "slide_type": "subslide"
    }
   },
   "outputs": [],
   "source": []
  }
 ],
 "metadata": {
  "kernelspec": {
   "display_name": "Python 3",
   "language": "python",
   "name": "python3"
  },
  "language_info": {
   "codemirror_mode": {
    "name": "ipython",
    "version": 3
   },
   "file_extension": ".py",
   "mimetype": "text/x-python",
   "name": "python",
   "nbconvert_exporter": "python",
   "pygments_lexer": "ipython3",
   "version": "3.11.8"
  }
 },
 "nbformat": 4,
 "nbformat_minor": 2
}
