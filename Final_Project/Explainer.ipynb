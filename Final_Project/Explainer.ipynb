{
 "cells": [
  {
   "cell_type": "code",
   "execution_count": 1,
   "metadata": {},
   "outputs": [],
   "source": [
    "#Importing packages\n",
    "import folium\n",
    "import pandas as pd\n",
    "import numpy as np\n",
    "import matplotlib.pyplot as plt\n",
    "from folium.plugins import HeatMap"
   ]
  },
  {
   "cell_type": "code",
   "execution_count": 2,
   "metadata": {},
   "outputs": [
    {
     "name": "stderr",
     "output_type": "stream",
     "text": [
      "/var/folders/jp/dc7lqd6n2jj4xgt9r_fd31440000gn/T/ipykernel_18086/601057482.py:2: DtypeWarning: Columns (3) have mixed types. Specify dtype option on import or set low_memory=False.\n",
      "  df = pd.read_csv('Motor_Vehicle_Collisions_-_Crashes_20240409.csv')\n"
     ]
    }
   ],
   "source": [
    "#Import data from CSV\n",
    "df = pd.read_csv('Motor_Vehicle_Collisions_-_Crashes_20240409.csv')"
   ]
  },
  {
   "cell_type": "markdown",
   "metadata": {},
   "source": [
    "### 1. Motivation\n",
    "<!-- What is your dataset? -->\n",
    "The dataset, that we have used in this project is called “Motor vehicle collisions - crashes” and it concerns vehicle crashes in the period from mid 2012 up until april 2024 in New York City (NYC).\n",
    "\n",
    "<!-- Why did you choose this/these particular dataset(s)? -->\n",
    "We have decided to analyze this particular dataset of various reasons.\n",
    "1. The dataset contains no less that 2.08 datapoints. This ensures that there is more than enough data to perform well grounded anlyses.\n",
    "2. The dataset contains geo-data which makes it possible to do geographical analyses of where crashes usually happens.\n",
    "3. The dataset contains 29 different attributes making it possible to analyse different factors involved and how they influence the overall picture.\n",
    "\n",
    "<!-- What was your goal for the end user's experience? -->\n",
    "\n"
   ]
  },
  {
   "cell_type": "markdown",
   "metadata": {},
   "source": [
    "### 2. Basic stats\n",
    "<!-- Write about your choices in data cleaning and preprocessing -->\n",
    "The years 2012 and 2024 are not entire years and so they become difficult to compare with the other years. These have been left out from the dataset.\n",
    "\n",
    "The dataset contains quite a few NaN's in some of the columns. As a start we have leaved out all datapoints with NaN's in the geodata column 'LOCATION' limiting the number of datapoints to 1.737.914.\n",
    "\n",
    "For all columns containing strings such as 'CONTRIBUTING FACTOR VEHICLE 1' or 'VEHICLE TYPE CODE 1', we have changed all cells to lowercase letters to uniform the data. This means that cells such as 'BUS' and 'bus' will now be interpreted as the same.\n",
    "\n",
    "<!-- Write a short section that discusses the dataset stats, containing key points/plots from your exploratory data analysis. -->\n",
    "\n",
    "The 29 attributes cover date, time and location (both coordinates, streetname and cross street name).\n",
    "Also number of people (drivers, pedestrians, cyclists) injuerd or killed as well as the contributing factor for the crash and the vehicle types involved.\n",
    "\n",
    "To get a preliminary idea of the data we have made a few simple plots.\n",
    "The first plot shows the development in crashes from 2013 to 2023. What is interesting is the drop from 2019 to 2020, which we will look further into.\n",
    "\n",
    "Another thing that would be interesting is to explore which contributing factors are most frequent.\n",
    "As there is always at least one vehicle involved we'll use the attribute 'CONTRIBUTING FACTOR VEHICLE 1' for the exploration. A total of 62 different contributing factors can be found. However the most common one is 'Unspecified' with no less that '567.539' occurences. This is unfortunate but it will still be possible to explore some of the other factors. As some of the factors show very few occurences such as 'Listening/Using Headphones' with only 21 occurences we will not be focussing on these as it is a very low frequency in a dataset of this size.\n",
    "This has left us with a limited amount of factors that we would like to focus on.\n",
    "\n",
    "\n",
    "\n"
   ]
  },
  {
   "cell_type": "markdown",
   "metadata": {},
   "source": [
    "### 3. Data Analysis\n",
    "- Describe your data analysis and explain what you've learned about the dataset.\n",
    "- If relevant, talk about your machine-learning."
   ]
  },
  {
   "cell_type": "markdown",
   "metadata": {},
   "source": [
    "### 4. Genre\n",
    "Which genre of data story did you use?\n",
    "- Which tools did you use from each of the 3 categories of Visual Narrative (Figure 7 in Segal and Heer). Why?\n",
    "- Which tools did you use from each of the 3 categories of Narrative Structure (Figure 7 in Segal and Heer). Why?\n",
    "##### **Visual narrative:**\n",
    "1. Visual Structuring \n",
    "    1. **Consistent visual platform**<br/>\n",
    "    This is the case, since there is a consistent layout throughout all the sections of the webpage. The layout of the platform is not the important thing to direct attention to, which is why we hoped that a consistency would lead the reader's attention to the content instead. \n",
    "2. Highlighting\n",
    "    1. **Feature distinction**<br/>\n",
    "    We try to guide the readers eye to the visualizations through adding colorful plots. This both attract the eye and gives immediate indication on what story we would like to tell. \n",
    "    2. **Motion/Audio**<br/>\n",
    "    We added the video we created for part A, to let the reader experience the purpose of the webpage in a lighter and more entertaining way.  \n",
    "3. Transition guidance\n",
    "    1. **Familiar object**<br/>\n",
    "    The webpage has a smooth transition from section to section due to the similar object on each page(layout) but has not much direct transition between them. The panel is a well-known feature which most people would find familiar and know how to maneuver. NOT SURE ABOUT THIS \n",
    "\n",
    "##### **Narrative Structure:**\n",
    "1. Ordering\n",
    "    1. **Random access** <br/>\n",
    "    We have chosen the panel to let the user inspect the page in a non-structured way allowing them to explore the parts of the data story they find the most interesting. They can therefore freely jump between sections. However, in many cultures a standard would be to access the sections from left to right.\n",
    "2. Interactivity \n",
    "    1. **Hover highlighting** <br/>\n",
    "    In the postal code map you can hover over the postal codes and get the information about the number of car crashes. This would simply have been too messy if it was indicated all the time because the big amount of data, which is why we have chosen the hover highlighting\n",
    "    2. **Filtering/selection/search** <br/> \n",
    "    On the Bokeh plots you are allowed to select the type of contributing factor you would like to inspect. This gives the reader an option to compare the patterns of the factors themselves which will make the story more memorable. Further the webpage has a search section in the panel, which helps the reader find the specific content they wish for. \n",
    "    3. **Navigation buttons** <br/>\n",
    "    The already mentioned panel allows the user to interact with the webpage. \n",
    "    4. **Stimulating Default Views** <br/>\n",
    "    The heatmap is clearly zoomed in on an area which we have chosen of interest and we have helped the reader by pointing some locations out in the map where there is a special density of crashes. This default view was chosen to guide the story we would like to tell, but the story is still interactive, allowing the reader to e.g. look up the surrounding area of their home, work etc. \n",
    "3. Messaging "
   ]
  },
  {
   "cell_type": "markdown",
   "metadata": {},
   "source": [
    "### 5. Visualizations\n",
    "- Explain the visualizations you've chosen.\n",
    "- Why are they right for the story you want to tell?"
   ]
  },
  {
   "cell_type": "markdown",
   "metadata": {},
   "source": [
    "### 6. Discussion. \n",
    "Think critically about your creation\n",
    "- What went well?,\n",
    "- What is still missing? What could be improved?, Why?"
   ]
  },
  {
   "cell_type": "markdown",
   "metadata": {},
   "source": [
    "### 7. Contributions. Who did what?\n",
    "\n",
    "Explainer: Lin, Mads, Rasmus\n",
    "\n",
    "Webpage setup: Lin, Mads, Rasmus\n",
    "\n",
    "Home: Rasmus\n",
    "\n",
    "Data Overview: Rasmus\n",
    "\n",
    "Contributing Factor:\n",
    "\n",
    "Vehicle type: \n",
    "\n",
    "Location of Crashes: Lin"
   ]
  },
  {
   "cell_type": "markdown",
   "metadata": {},
   "source": [
    "### 8. Make sure that you use references when they're needed and follow academic standards."
   ]
  },
  {
   "cell_type": "code",
   "execution_count": null,
   "metadata": {},
   "outputs": [],
   "source": []
  },
  {
   "cell_type": "code",
   "execution_count": null,
   "metadata": {
    "slideshow": {
     "slide_type": "subslide"
    }
   },
   "outputs": [],
   "source": []
  }
 ],
 "metadata": {
  "kernelspec": {
   "display_name": "Python 3",
   "language": "python",
   "name": "python3"
  },
  "language_info": {
   "codemirror_mode": {
    "name": "ipython",
    "version": 3
   },
   "file_extension": ".py",
   "mimetype": "text/x-python",
   "name": "python",
   "nbconvert_exporter": "python",
   "pygments_lexer": "ipython3",
   "version": "3.11.8"
  }
 },
 "nbformat": 4,
 "nbformat_minor": 2
}
